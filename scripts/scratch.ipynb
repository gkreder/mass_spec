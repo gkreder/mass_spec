{
  "cells": [
    {
      "cell_type": "code",
      "source": [
        "import os\n",
        "import sys\n",
        "import pandas as pd\n",
        "import numpy as np\n",
        "import time\n",
        "os.chdir('/Users/student/mass_spec/')"
      ],
      "outputs": [],
      "execution_count": 27,
      "metadata": {
        "collapsed": false,
        "outputHidden": false,
        "inputHidden": false
      }
    },
    {
      "cell_type": "code",
      "source": [
        "MzRt_files = [x for x in os.listdir('/Users/student/mass_spec/data/HirschhornLab_MetabolomicsData/') if '.MzRtInfo' in x]\n",
        "[BioAge_file, MCDS_file, OE_file] = MzRt_files\n",
        "os.chdir('/Users/student/mass_spec/data/HirschhornLab_MetabolomicsData/')\n",
        "df_b = pd.DataFrame.from_csv(BioAge_file, sep = '\\t')\n",
        "df_m = pd.DataFrame.from_csv(MCDS_file, sep = '\\t')\n",
        "df_o = pd.DataFrame.from_csv(OE_file, sep = '\\t')\n",
        "df_trans = pd.read_excel('/Users/student/mass_spec/data/transformations.xlsx', sheetname = 'Common chemical relationships')\n",
        "df_trans = df_trans.drop(0)\n",
        "df_trans.set_index('Element', inplace = True)\n",
        "df_trans.index.name = 'Reaction'\n",
        "df_trans_mz = df_trans['Δm/z']\n",
        "df_trans_mz = pd.DataFrame(df_trans_mz)\n",
        "df_trans_mz.rename(columns = {'Δm/z' : 'delta_m.z'}, inplace = True)"
      ],
      "outputs": [],
      "execution_count": 9,
      "metadata": {
        "collapsed": false,
        "outputHidden": false,
        "inputHidden": false
      }
    },
    {
      "cell_type": "code",
      "source": [
        "df_current = df_b\n",
        "metabolites = df_current.index.values\n",
        "diffs = {}\n",
        "start = time.time()\n",
        "\n",
        "f_out = 'db_out.csv'\n",
        "with open(f_out, 'w') as f:\n",
        "    for metabolite_outer in metabolites:\n",
        "        for metabolite_inner in metabolites:\n",
        "            diff = df_current['m.z'][metabolite_outer] - df_current['m.z'][metabolite_inner]\n",
        "            print(metabolite_outer + ',' + metabolite_inner + ',' + str(diff), file = f)\n",
        "        \n",
        "end = time.time()\n",
        "    \n",
        "\n",
        "# for metabolite_outer in metabolites:\n",
        "#     diffs[metabolite_outer] = {}\n",
        "#     for metabolite_inner in metabolites:\n",
        "#         diffs[metabolite_outer][metabolite_inner] = df_current['m.z'][metabolite_outer] - df_current['m.z'][metabolite_inner]\n",
        "# end = time.time()\n",
        "# print('Calculating Differences - ' + str(end-start))"
      ],
      "outputs": [],
      "execution_count": 39,
      "metadata": {
        "collapsed": false,
        "outputHidden": false,
        "inputHidden": false
      }
    },
    {
      "cell_type": "code",
      "source": [
        "df_current['m.z'][metabolite_inner]"
      ],
      "outputs": [
        {
          "output_type": "execute_result",
          "execution_count": 35,
          "data": {
            "text/plain": [
              "243.06229999999999"
            ]
          },
          "metadata": {}
        }
      ],
      "execution_count": 35,
      "metadata": {
        "collapsed": false,
        "outputHidden": false,
        "inputHidden": false
      }
    },
    {
      "cell_type": "code",
      "source": [],
      "outputs": [],
      "execution_count": null,
      "metadata": {
        "collapsed": false,
        "outputHidden": false,
        "inputHidden": false
      }
    }
  ],
  "metadata": {
    "kernelspec": {
      "name": "fischbach",
      "language": "python",
      "display_name": "fischbach"
    },
    "kernel_info": {
      "name": "fischbach"
    },
    "language_info": {
      "name": "python",
      "version": "3.6.1",
      "mimetype": "text/x-python",
      "codemirror_mode": {
        "name": "ipython",
        "version": 3
      },
      "pygments_lexer": "ipython3",
      "nbconvert_exporter": "python",
      "file_extension": ".py"
    }
  },
  "nbformat": 4,
  "nbformat_minor": 4
}