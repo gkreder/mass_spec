{
  "cells": [
    {
      "cell_type": "code",
      "source": [
        "import sys\n",
        "import os\n",
        "import plotly.plotly as py\n",
        "import cufflinks as cf\n",
        "import numpy as np\n",
        "import pandas as pd"
      ],
      "outputs": [],
      "execution_count": 4,
      "metadata": {
        "collapsed": false,
        "outputHidden": false,
        "inputHidden": false
      }
    },
    {
      "cell_type": "code",
      "source": [
        "os.chdir('/Users/student/Google Drive/mass_spec/mass_spec_shared/')\n",
        "b_csv_pruned = 'BioAge_pruned.csv'\n",
        "m_pruned.csv = 'MCDS_pruned.csv'\n",
        "o_pruned.csv = 'OE_pruned.csv'\n",
        "df_b = pd.DataFrame.from_csv(b_csv_pruned, sep=',')\n",
        "df_m = pd.DataFrame.from_csv(m_csv_pruned, sep=',')\n",
        "df_o = pd.DataFrame.from_csv(o_csv_pruned, sep=',')"
      ],
      "outputs": [
        {
          "output_type": "execute_result",
          "execution_count": 7,
          "data": {
            "text/plain": [
              "['BioAge.csv',\n",
              " 'BioAge_pruned.csv',\n",
              " 'BioAge_spQC_miss0.5.MzRtInfo.txt',\n",
              " 'map_transformations.py',\n",
              " 'MCDS.csv',\n",
              " 'MCDS_pruned.csv',\n",
              " 'MCDS_spQC_miss0.5.MzRtInfo.txt',\n",
              " 'OE.csv',\n",
              " 'OE_pruned.csv',\n",
              " 'OE_spQC_miss0.25.MzRtInfo.txt',\n",
              " 'required_modules.txt',\n",
              " 'submission.sh',\n",
              " 'transformations.xlsx']"
            ]
          },
          "metadata": {}
        }
      ],
      "execution_count": 7,
      "metadata": {
        "collapsed": false,
        "outputHidden": false,
        "inputHidden": false
      }
    },
    {
      "cell_type": "code",
      "source": [],
      "outputs": [],
      "execution_count": null,
      "metadata": {
        "collapsed": false,
        "outputHidden": false,
        "inputHidden": false
      }
    }
  ],
  "metadata": {
    "kernelspec": {
      "name": "fischbach",
      "language": "python",
      "display_name": "fischbach"
    },
    "kernel_info": {
      "name": "fischbach"
    },
    "language_info": {
      "name": "python",
      "version": "3.6.1",
      "mimetype": "text/x-python",
      "codemirror_mode": {
        "name": "ipython",
        "version": 3
      },
      "pygments_lexer": "ipython3",
      "nbconvert_exporter": "python",
      "file_extension": ".py"
    }
  },
  "nbformat": 4,
  "nbformat_minor": 4
}